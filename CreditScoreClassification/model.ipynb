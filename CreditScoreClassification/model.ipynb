{
 "cells": [
  {
   "cell_type": "code",
   "execution_count": 3,
   "metadata": {},
   "outputs": [],
   "source": [
    "import numpy as np\n",
    "import pandas as pd \n",
    "from sklearn.ensemble import RandomForestClassifier\n",
    "from sklearn.linear_model import LogisticRegression\n",
    "from sklearn.tree import DecisionTreeRegressor\n",
    "from sklearn.model_selection import train_test_split\n",
    "from sklearn import preprocessing\n",
    "from sklearn.metrics import confusion_matrix\n",
    "from sklearn.preprocessing import RobustScaler\n",
    "import matplotlib.pyplot as plt\n"
   ]
  },
  {
   "cell_type": "code",
   "execution_count": null,
   "metadata": {},
   "outputs": [],
   "source": [
    "train_data=pd.read_csv(\"train.csv\")\n",
    "test_data=pd.read_csv(\"test.csv\")\n",
    "df=pd.concat([train_data,test_data],axis=0)\n"
   ]
  },
  {
   "cell_type": "code",
   "execution_count": 5,
   "metadata": {},
   "outputs": [
    {
     "data": {
      "text/plain": [
       "ID                              0\n",
       "Customer_ID                     0\n",
       "Month                           0\n",
       "Name                        15000\n",
       "Age                             0\n",
       "SSN                             0\n",
       "Occupation                      0\n",
       "Annual_Income                   0\n",
       "Monthly_Inhand_Salary       22500\n",
       "Num_Bank_Accounts               0\n",
       "Num_Credit_Card                 0\n",
       "Interest_Rate                   0\n",
       "Num_of_Loan                     0\n",
       "Type_of_Loan                17112\n",
       "Delay_from_due_date             0\n",
       "Num_of_Delayed_Payment      10500\n",
       "Changed_Credit_Limit            0\n",
       "Num_Credit_Inquiries         3000\n",
       "Credit_Mix                      0\n",
       "Outstanding_Debt                0\n",
       "Credit_Utilization_Ratio        0\n",
       "Credit_History_Age          13500\n",
       "Payment_of_Min_Amount           0\n",
       "Total_EMI_per_month             0\n",
       "Amount_invested_monthly      6750\n",
       "Payment_Behaviour               0\n",
       "Monthly_Balance              1762\n",
       "Credit_Score                50000\n",
       "dtype: int64"
      ]
     },
     "execution_count": 5,
     "metadata": {},
     "output_type": "execute_result"
    }
   ],
   "source": [
    "df.isna().sum()"
   ]
  },
  {
   "cell_type": "code",
   "execution_count": 6,
   "metadata": {},
   "outputs": [
    {
     "data": {
      "text/plain": [
       "Not Specified                                                                                                                         2112\n",
       "Credit-Builder Loan                                                                                                                   1920\n",
       "Personal Loan                                                                                                                         1908\n",
       "Debt Consolidation Loan                                                                                                               1896\n",
       "Student Loan                                                                                                                          1860\n",
       "                                                                                                                                      ... \n",
       "Not Specified, Mortgage Loan, Auto Loan, and Payday Loan                                                                                12\n",
       "Payday Loan, Mortgage Loan, Debt Consolidation Loan, and Student Loan                                                                   12\n",
       "Debt Consolidation Loan, Auto Loan, Personal Loan, Debt Consolidation Loan, Student Loan, and Credit-Builder Loan                       12\n",
       "Student Loan, Auto Loan, Student Loan, Credit-Builder Loan, Home Equity Loan, Debt Consolidation Loan, and Debt Consolidation Loan      12\n",
       "Personal Loan, Auto Loan, Mortgage Loan, Student Loan, and Student Loan                                                                 12\n",
       "Name: Type_of_Loan, Length: 6260, dtype: int64"
      ]
     },
     "execution_count": 6,
     "metadata": {},
     "output_type": "execute_result"
    }
   ],
   "source": [
    "df[\"Type_of_Loan\"].value_counts()\n",
    "# 0t Specified en fazla kredi tipidir. Bu yüzden boş değerleri bu kredi tipiyle dolduracağım."
   ]
  },
  {
   "cell_type": "code",
   "execution_count": null,
   "metadata": {},
   "outputs": [],
   "source": [
    "sym = \"\\\\`*_{}-[]()>#@+!$:;<\"\n",
    "col_int = ['Age','Delay_from_due_date','Num_of_Delayed_Payment','Outstanding_Debt',\n",
    "           'Total_EMI_per_month','Monthly_Balance','Annual_Income']\n",
    "col_str = ['Occupation','Credit_History_Age','Payment_of_Min_Amount','Credit_Score']\n",
    "for i in col_int:\n",
    "  for c in sym:\n",
    "    df[i] = df[i].astype(str).str.replace(c,'')\n",
    "for i in col_str:\n",
    "  for c in sym:\n",
    "    df[i] = df[i].replace(c,'')"
   ]
  },
  {
   "cell_type": "code",
   "execution_count": 8,
   "metadata": {},
   "outputs": [],
   "source": [
    "# Column Type_of_Loan\n",
    "df[\"Type_of_Loan\"].fillna(\"Not Specified \",inplace=True)\n",
    "mean_salary=df[\"Monthly_Inhand_Salary\"].mean()\n",
    "df[\"Monthly_Inhand_Salary\"].fillna(mean_salary,inplace=True)\n",
    "# Column Delay_from_due_date\n",
    "df[\"Delay_from_due_date\"]=df[\"Delay_from_due_date\"].apply(lambda x:str(x).replace('-',''))\n",
    "# Column Num_of_Delayed_Payment\n",
    "df[\"Num_of_Delayed_Payment\"]=df[\"Num_of_Delayed_Payment\"].str.replace('_','')\n",
    "df[\"Num_of_Delayed_Payment\"]=df[\"Num_of_Delayed_Payment\"].str.replace('-','')\n",
    "df[\"Num_of_Delayed_Payment\"]=df[\"Num_of_Delayed_Payment\"].astype(float)\n",
    "ort=df[\"Num_of_Delayed_Payment\"].mean()\n",
    "df[\"Num_of_Delayed_Payment\"].fillna(ort,inplace=True)\n",
    "df[\"Num_of_Delayed_Payment\"]=df[\"Num_of_Delayed_Payment\"].astype(int)\n",
    "# Column Num_Credit_Inquiries\n",
    "ort2=df[\"Num_Credit_Inquiries\"].mean()\n",
    "df[\"Num_Credit_Inquiries\"].fillna(ort2,inplace=True)\n",
    "# outout column Credit Score filled missing values\n",
    "df[\"Credit_Score\"].fillna(np.random.choice(df[\"Credit_Score\"].values),inplace=True)\n",
    "\n"
   ]
  },
  {
   "cell_type": "code",
   "execution_count": 9,
   "metadata": {},
   "outputs": [],
   "source": [
    "# column Credit_History_Age\n",
    "df[\"Credit_History_Age\"]=df[\"Credit_History_Age\"].str[:2]\n",
    "df[\"Credit_History_Age\"]=df[\"Credit_History_Age\"].astype(float)\n",
    "ort3=df[\"Credit_History_Age\"].mean()\n",
    "df[\"Credit_History_Age\"].fillna(ort3,inplace=True)\n",
    "df[\"Credit_History_Age\"]=df[\"Credit_History_Age\"].astype(int)\n",
    "# column Amount_invested_monthly\n",
    "df[\"Amount_invested_monthly\"]=df[\"Amount_invested_monthly\"].str.replace('__','')\n",
    "df[\"Amount_invested_monthly\"]=df[\"Amount_invested_monthly\"].astype(float)\n",
    "ort4=df[\"Amount_invested_monthly\"].mean()\n",
    "df[\"Amount_invested_monthly\"].fillna(ort4,inplace=True)\n",
    "# column Monthly_Balance\n",
    "df.drop(df[df[\"Monthly_Balance\"]=='__-333333333333333333333333333__'].index,inplace=True)\n",
    "df[\"Monthly_Balance\"]=df[\"Monthly_Balance\"].astype(float)\n",
    "df['Monthly_Balance'].fillna(df['Monthly_Balance'].mean(), inplace=True)\n",
    "# column Changed_Credit_Limit\n",
    "df[\"Changed_Credit_Limit\"]=df[\"Changed_Credit_Limit\"].str.replace('_','')\n",
    "df[\"Changed_Credit_Limit\"].replace('', np.nan, inplace=True)\n",
    "df[\"Changed_Credit_Limit\"]=df[\"Changed_Credit_Limit\"].astype(float)\n",
    "df[\"Changed_Credit_Limit\"].fillna(df[\"Changed_Credit_Limit\"].mean(),inplace=True)\n"
   ]
  },
  {
   "cell_type": "code",
   "execution_count": 10,
   "metadata": {},
   "outputs": [],
   "source": [
    "# column Credit_Mix\n",
    "df[\"Credit_Mix\"]=df[\"Credit_Mix\"].str.replace(\"_\",\"\")\n",
    "df[\"Credit_Mix\"]=df[\"Credit_Mix\"].str.replace(\"-\",\"\")\n",
    "df[\"Credit_Mix\"].replace(\"\", np.nan, inplace=True)\n",
    "df[\"Credit_Mix\"].fillna(np.random.choice([\"Good\",\"Standart\",\"Bad\"]),inplace=True)\n",
    "df[\"Credit_Mix\"].to_csv(\"f.csv\",index=False)\n",
    "# column Outstanding_Debt\n",
    "df[\"Outstanding_Debt\"]=df[\"Outstanding_Debt\"].str.replace('_','')\n",
    "df[\"Outstanding_Debt\"]=df[\"Outstanding_Debt\"].astype(float)\n",
    "# column Payment_of_Min_Amount\n",
    "df[\"Payment_of_Min_Amount\"]=df[\"Payment_of_Min_Amount\"].str.replace('NM','')\n",
    "df[\"Payment_of_Min_Amount\"].replace(\"\", np.nan, inplace=True)\n",
    "df[\"Payment_of_Min_Amount\"].fillna(np.random.choice([\"0\",\"Yes\"]),inplace=True)\n",
    "# column Payment_Behaviour\n",
    "df[\"Payment_Behaviour\"]=df[\"Payment_Behaviour\"].str.replace('!','').str.replace('@','').str.replace('9','').str.replace('#','').str.replace('%','').str.replace('8','')\n",
    "df[\"Payment_Behaviour\"].replace(\"\",np.nan,inplace=True)\n",
    "df[\"Payment_Behaviour\"].fillna(np.random.choice([\"Low_spent_Large_value_payments\",\n",
    "\"Low_spent_Medium_value_payments\",\n",
    "\"Low_spent_Small_value_payments\",\"High_spent_Small_value_payments\",\"High_spent_Medium_value_payments\",\"High_spent_Large_value_payments\"]),inplace=True)\n",
    "# column Occupation\n",
    "df[\"Occupation\"]=df[\"Occupation\"].str.replace('_','')\n",
    "df[\"Occupation\"].replace(\"\",np.nan,inplace=True)\n",
    "df[\"Occupation\"].fillna(np.random.choice([\"Scientist\",\"Teacher\",\"Engineer\",\"Entrepreneur\",\"Developer\",\"Lawyer\",\"MediaManager\",\"Doctor\",\"Journalist\",\"Manager\",\"Accountant\",\"Musician\",\"Mechanic\",\"Writer\",\"Architect\"]),inplace=True)"
   ]
  },
  {
   "cell_type": "code",
   "execution_count": 11,
   "metadata": {},
   "outputs": [
    {
     "data": {
      "text/plain": [
       "ID                              0\n",
       "Customer_ID                     0\n",
       "Month                           0\n",
       "Name                        15000\n",
       "Age                             0\n",
       "SSN                             0\n",
       "Occupation                      0\n",
       "Annual_Income                   0\n",
       "Monthly_Inhand_Salary           0\n",
       "Num_Bank_Accounts               0\n",
       "Num_Credit_Card                 0\n",
       "Interest_Rate                   0\n",
       "Num_of_Loan                     0\n",
       "Type_of_Loan                    0\n",
       "Delay_from_due_date             0\n",
       "Num_of_Delayed_Payment          0\n",
       "Changed_Credit_Limit            0\n",
       "Num_Credit_Inquiries            0\n",
       "Credit_Mix                      0\n",
       "Outstanding_Debt                0\n",
       "Credit_Utilization_Ratio        0\n",
       "Credit_History_Age              0\n",
       "Payment_of_Min_Amount           0\n",
       "Total_EMI_per_month             0\n",
       "Amount_invested_monthly         0\n",
       "Payment_Behaviour               0\n",
       "Monthly_Balance                 0\n",
       "Credit_Score                50000\n",
       "dtype: int64"
      ]
     },
     "execution_count": 11,
     "metadata": {},
     "output_type": "execute_result"
    }
   ],
   "source": [
    "df.isna().sum()"
   ]
  },
  {
   "cell_type": "code",
   "execution_count": 12,
   "metadata": {},
   "outputs": [],
   "source": [
    "df.drop([\"ID\",\"Customer_ID\",\"Month\",\"Name\",\"SSN\",\"Num_Bank_Accounts\",\"Num_Credit_Card\",\"Num_of_Loan\",\"Age\",\"Type_of_Loan\"],axis=1,inplace=True)"
   ]
  },
  {
   "cell_type": "code",
   "execution_count": 30,
   "metadata": {},
   "outputs": [
    {
     "name": "stderr",
     "output_type": "stream",
     "text": [
      "C:\\Users\\kadir ortaç\\AppData\\Local\\Temp\\ipykernel_11656\\1134722465.py:1: FutureWarning: The default value of numeric_only in DataFrame.corr is deprecated. In a future version, it will default to False. Select only valid columns or specify the value of numeric_only to silence this warning.\n",
      "  df.corr()\n"
     ]
    },
    {
     "data": {
      "text/html": [
       "<div>\n",
       "<style scoped>\n",
       "    .dataframe tbody tr th:only-of-type {\n",
       "        vertical-align: middle;\n",
       "    }\n",
       "\n",
       "    .dataframe tbody tr th {\n",
       "        vertical-align: top;\n",
       "    }\n",
       "\n",
       "    .dataframe thead th {\n",
       "        text-align: right;\n",
       "    }\n",
       "</style>\n",
       "<table border=\"1\" class=\"dataframe\">\n",
       "  <thead>\n",
       "    <tr style=\"text-align: right;\">\n",
       "      <th></th>\n",
       "      <th>Monthly_Inhand_Salary</th>\n",
       "      <th>Interest_Rate</th>\n",
       "      <th>Num_of_Delayed_Payment</th>\n",
       "      <th>Changed_Credit_Limit</th>\n",
       "      <th>Num_Credit_Inquiries</th>\n",
       "      <th>Credit_Mix</th>\n",
       "      <th>Outstanding_Debt</th>\n",
       "      <th>Credit_Utilization_Ratio</th>\n",
       "      <th>Credit_History_Age</th>\n",
       "      <th>Amount_invested_monthly</th>\n",
       "      <th>Monthly_Balance</th>\n",
       "      <th>Credit_Score</th>\n",
       "    </tr>\n",
       "  </thead>\n",
       "  <tbody>\n",
       "    <tr>\n",
       "      <th>Monthly_Inhand_Salary</th>\n",
       "      <td>1.000000</td>\n",
       "      <td>-0.008612</td>\n",
       "      <td>-0.002043</td>\n",
       "      <td>-0.160056</td>\n",
       "      <td>-0.007208</td>\n",
       "      <td>0.242832</td>\n",
       "      <td>-0.248518</td>\n",
       "      <td>0.157197</td>\n",
       "      <td>0.240596</td>\n",
       "      <td>0.054066</td>\n",
       "      <td>0.001771</td>\n",
       "      <td>0.192710</td>\n",
       "    </tr>\n",
       "    <tr>\n",
       "      <th>Interest_Rate</th>\n",
       "      <td>-0.008612</td>\n",
       "      <td>1.000000</td>\n",
       "      <td>0.002443</td>\n",
       "      <td>0.003043</td>\n",
       "      <td>-0.002861</td>\n",
       "      <td>-0.011710</td>\n",
       "      <td>0.009496</td>\n",
       "      <td>-0.001023</td>\n",
       "      <td>-0.010433</td>\n",
       "      <td>-0.002033</td>\n",
       "      <td>-0.001301</td>\n",
       "      <td>-0.002591</td>\n",
       "    </tr>\n",
       "    <tr>\n",
       "      <th>Num_of_Delayed_Payment</th>\n",
       "      <td>-0.002043</td>\n",
       "      <td>0.002443</td>\n",
       "      <td>1.000000</td>\n",
       "      <td>0.009588</td>\n",
       "      <td>-0.000883</td>\n",
       "      <td>-0.015131</td>\n",
       "      <td>0.011348</td>\n",
       "      <td>0.000184</td>\n",
       "      <td>-0.011562</td>\n",
       "      <td>0.000100</td>\n",
       "      <td>-0.000960</td>\n",
       "      <td>-0.007748</td>\n",
       "    </tr>\n",
       "    <tr>\n",
       "      <th>Changed_Credit_Limit</th>\n",
       "      <td>-0.160056</td>\n",
       "      <td>0.003043</td>\n",
       "      <td>0.009588</td>\n",
       "      <td>1.000000</td>\n",
       "      <td>0.006825</td>\n",
       "      <td>-0.332102</td>\n",
       "      <td>0.453447</td>\n",
       "      <td>-0.048371</td>\n",
       "      <td>-0.401195</td>\n",
       "      <td>-0.010669</td>\n",
       "      <td>-0.002157</td>\n",
       "      <td>-0.167759</td>\n",
       "    </tr>\n",
       "    <tr>\n",
       "      <th>Num_Credit_Inquiries</th>\n",
       "      <td>-0.007208</td>\n",
       "      <td>-0.002861</td>\n",
       "      <td>-0.000883</td>\n",
       "      <td>0.006825</td>\n",
       "      <td>1.000000</td>\n",
       "      <td>-0.010166</td>\n",
       "      <td>0.008873</td>\n",
       "      <td>0.000076</td>\n",
       "      <td>-0.010624</td>\n",
       "      <td>-0.002032</td>\n",
       "      <td>-0.001091</td>\n",
       "      <td>-0.011126</td>\n",
       "    </tr>\n",
       "    <tr>\n",
       "      <th>Credit_Mix</th>\n",
       "      <td>0.242832</td>\n",
       "      <td>-0.011710</td>\n",
       "      <td>-0.015131</td>\n",
       "      <td>-0.332102</td>\n",
       "      <td>-0.010166</td>\n",
       "      <td>1.000000</td>\n",
       "      <td>-0.535914</td>\n",
       "      <td>0.070226</td>\n",
       "      <td>0.475159</td>\n",
       "      <td>0.013964</td>\n",
       "      <td>0.003680</td>\n",
       "      <td>0.387319</td>\n",
       "    </tr>\n",
       "    <tr>\n",
       "      <th>Outstanding_Debt</th>\n",
       "      <td>-0.248518</td>\n",
       "      <td>0.009496</td>\n",
       "      <td>0.011348</td>\n",
       "      <td>0.453447</td>\n",
       "      <td>0.008873</td>\n",
       "      <td>-0.535914</td>\n",
       "      <td>1.000000</td>\n",
       "      <td>-0.072562</td>\n",
       "      <td>-0.599647</td>\n",
       "      <td>-0.013643</td>\n",
       "      <td>-0.002660</td>\n",
       "      <td>-0.386525</td>\n",
       "    </tr>\n",
       "    <tr>\n",
       "      <th>Credit_Utilization_Ratio</th>\n",
       "      <td>0.157197</td>\n",
       "      <td>-0.001023</td>\n",
       "      <td>0.000184</td>\n",
       "      <td>-0.048371</td>\n",
       "      <td>0.000076</td>\n",
       "      <td>0.070226</td>\n",
       "      <td>-0.072562</td>\n",
       "      <td>1.000000</td>\n",
       "      <td>0.069313</td>\n",
       "      <td>0.003034</td>\n",
       "      <td>0.002014</td>\n",
       "      <td>0.045793</td>\n",
       "    </tr>\n",
       "    <tr>\n",
       "      <th>Credit_History_Age</th>\n",
       "      <td>0.240596</td>\n",
       "      <td>-0.010433</td>\n",
       "      <td>-0.011562</td>\n",
       "      <td>-0.401195</td>\n",
       "      <td>-0.010624</td>\n",
       "      <td>0.475159</td>\n",
       "      <td>-0.599647</td>\n",
       "      <td>0.069313</td>\n",
       "      <td>1.000000</td>\n",
       "      <td>0.019196</td>\n",
       "      <td>0.001650</td>\n",
       "      <td>0.371014</td>\n",
       "    </tr>\n",
       "    <tr>\n",
       "      <th>Amount_invested_monthly</th>\n",
       "      <td>0.054066</td>\n",
       "      <td>-0.002033</td>\n",
       "      <td>0.000100</td>\n",
       "      <td>-0.010669</td>\n",
       "      <td>-0.002032</td>\n",
       "      <td>0.013964</td>\n",
       "      <td>-0.013643</td>\n",
       "      <td>0.003034</td>\n",
       "      <td>0.019196</td>\n",
       "      <td>1.000000</td>\n",
       "      <td>-0.001444</td>\n",
       "      <td>0.011360</td>\n",
       "    </tr>\n",
       "    <tr>\n",
       "      <th>Monthly_Balance</th>\n",
       "      <td>0.001771</td>\n",
       "      <td>-0.001301</td>\n",
       "      <td>-0.000960</td>\n",
       "      <td>-0.002157</td>\n",
       "      <td>-0.001091</td>\n",
       "      <td>0.003680</td>\n",
       "      <td>-0.002660</td>\n",
       "      <td>0.002014</td>\n",
       "      <td>0.001650</td>\n",
       "      <td>-0.001444</td>\n",
       "      <td>1.000000</td>\n",
       "      <td>0.001575</td>\n",
       "    </tr>\n",
       "    <tr>\n",
       "      <th>Credit_Score</th>\n",
       "      <td>0.192710</td>\n",
       "      <td>-0.002591</td>\n",
       "      <td>-0.007748</td>\n",
       "      <td>-0.167759</td>\n",
       "      <td>-0.011126</td>\n",
       "      <td>0.387319</td>\n",
       "      <td>-0.386525</td>\n",
       "      <td>0.045793</td>\n",
       "      <td>0.371014</td>\n",
       "      <td>0.011360</td>\n",
       "      <td>0.001575</td>\n",
       "      <td>1.000000</td>\n",
       "    </tr>\n",
       "  </tbody>\n",
       "</table>\n",
       "</div>"
      ],
      "text/plain": [
       "                          Monthly_Inhand_Salary  Interest_Rate  \\\n",
       "Monthly_Inhand_Salary                  1.000000      -0.008612   \n",
       "Interest_Rate                         -0.008612       1.000000   \n",
       "Num_of_Delayed_Payment                -0.002043       0.002443   \n",
       "Changed_Credit_Limit                  -0.160056       0.003043   \n",
       "Num_Credit_Inquiries                  -0.007208      -0.002861   \n",
       "Credit_Mix                             0.242832      -0.011710   \n",
       "Outstanding_Debt                      -0.248518       0.009496   \n",
       "Credit_Utilization_Ratio               0.157197      -0.001023   \n",
       "Credit_History_Age                     0.240596      -0.010433   \n",
       "Amount_invested_monthly                0.054066      -0.002033   \n",
       "Monthly_Balance                        0.001771      -0.001301   \n",
       "Credit_Score                           0.192710      -0.002591   \n",
       "\n",
       "                          Num_of_Delayed_Payment  Changed_Credit_Limit  \\\n",
       "Monthly_Inhand_Salary                  -0.002043             -0.160056   \n",
       "Interest_Rate                           0.002443              0.003043   \n",
       "Num_of_Delayed_Payment                  1.000000              0.009588   \n",
       "Changed_Credit_Limit                    0.009588              1.000000   \n",
       "Num_Credit_Inquiries                   -0.000883              0.006825   \n",
       "Credit_Mix                             -0.015131             -0.332102   \n",
       "Outstanding_Debt                        0.011348              0.453447   \n",
       "Credit_Utilization_Ratio                0.000184             -0.048371   \n",
       "Credit_History_Age                     -0.011562             -0.401195   \n",
       "Amount_invested_monthly                 0.000100             -0.010669   \n",
       "Monthly_Balance                        -0.000960             -0.002157   \n",
       "Credit_Score                           -0.007748             -0.167759   \n",
       "\n",
       "                          Num_Credit_Inquiries  Credit_Mix  Outstanding_Debt  \\\n",
       "Monthly_Inhand_Salary                -0.007208    0.242832         -0.248518   \n",
       "Interest_Rate                        -0.002861   -0.011710          0.009496   \n",
       "Num_of_Delayed_Payment               -0.000883   -0.015131          0.011348   \n",
       "Changed_Credit_Limit                  0.006825   -0.332102          0.453447   \n",
       "Num_Credit_Inquiries                  1.000000   -0.010166          0.008873   \n",
       "Credit_Mix                           -0.010166    1.000000         -0.535914   \n",
       "Outstanding_Debt                      0.008873   -0.535914          1.000000   \n",
       "Credit_Utilization_Ratio              0.000076    0.070226         -0.072562   \n",
       "Credit_History_Age                   -0.010624    0.475159         -0.599647   \n",
       "Amount_invested_monthly              -0.002032    0.013964         -0.013643   \n",
       "Monthly_Balance                      -0.001091    0.003680         -0.002660   \n",
       "Credit_Score                         -0.011126    0.387319         -0.386525   \n",
       "\n",
       "                          Credit_Utilization_Ratio  Credit_History_Age  \\\n",
       "Monthly_Inhand_Salary                     0.157197            0.240596   \n",
       "Interest_Rate                            -0.001023           -0.010433   \n",
       "Num_of_Delayed_Payment                    0.000184           -0.011562   \n",
       "Changed_Credit_Limit                     -0.048371           -0.401195   \n",
       "Num_Credit_Inquiries                      0.000076           -0.010624   \n",
       "Credit_Mix                                0.070226            0.475159   \n",
       "Outstanding_Debt                         -0.072562           -0.599647   \n",
       "Credit_Utilization_Ratio                  1.000000            0.069313   \n",
       "Credit_History_Age                        0.069313            1.000000   \n",
       "Amount_invested_monthly                   0.003034            0.019196   \n",
       "Monthly_Balance                           0.002014            0.001650   \n",
       "Credit_Score                              0.045793            0.371014   \n",
       "\n",
       "                          Amount_invested_monthly  Monthly_Balance  \\\n",
       "Monthly_Inhand_Salary                    0.054066         0.001771   \n",
       "Interest_Rate                           -0.002033        -0.001301   \n",
       "Num_of_Delayed_Payment                   0.000100        -0.000960   \n",
       "Changed_Credit_Limit                    -0.010669        -0.002157   \n",
       "Num_Credit_Inquiries                    -0.002032        -0.001091   \n",
       "Credit_Mix                               0.013964         0.003680   \n",
       "Outstanding_Debt                        -0.013643        -0.002660   \n",
       "Credit_Utilization_Ratio                 0.003034         0.002014   \n",
       "Credit_History_Age                       0.019196         0.001650   \n",
       "Amount_invested_monthly                  1.000000        -0.001444   \n",
       "Monthly_Balance                         -0.001444         1.000000   \n",
       "Credit_Score                             0.011360         0.001575   \n",
       "\n",
       "                          Credit_Score  \n",
       "Monthly_Inhand_Salary         0.192710  \n",
       "Interest_Rate                -0.002591  \n",
       "Num_of_Delayed_Payment       -0.007748  \n",
       "Changed_Credit_Limit         -0.167759  \n",
       "Num_Credit_Inquiries         -0.011126  \n",
       "Credit_Mix                    0.387319  \n",
       "Outstanding_Debt             -0.386525  \n",
       "Credit_Utilization_Ratio      0.045793  \n",
       "Credit_History_Age            0.371014  \n",
       "Amount_invested_monthly       0.011360  \n",
       "Monthly_Balance               0.001575  \n",
       "Credit_Score                  1.000000  "
      ]
     },
     "execution_count": 30,
     "metadata": {},
     "output_type": "execute_result"
    }
   ],
   "source": [
    "df.corr()"
   ]
  },
  {
   "cell_type": "code",
   "execution_count": 14,
   "metadata": {},
   "outputs": [
    {
     "data": {
      "text/html": [
       "<div>\n",
       "<style scoped>\n",
       "    .dataframe tbody tr th:only-of-type {\n",
       "        vertical-align: middle;\n",
       "    }\n",
       "\n",
       "    .dataframe tbody tr th {\n",
       "        vertical-align: top;\n",
       "    }\n",
       "\n",
       "    .dataframe thead th {\n",
       "        text-align: right;\n",
       "    }\n",
       "</style>\n",
       "<table border=\"1\" class=\"dataframe\">\n",
       "  <thead>\n",
       "    <tr style=\"text-align: right;\">\n",
       "      <th></th>\n",
       "      <th>Occupation</th>\n",
       "      <th>Annual_Income</th>\n",
       "      <th>Monthly_Inhand_Salary</th>\n",
       "      <th>Interest_Rate</th>\n",
       "      <th>Delay_from_due_date</th>\n",
       "      <th>Num_of_Delayed_Payment</th>\n",
       "      <th>Changed_Credit_Limit</th>\n",
       "      <th>Num_Credit_Inquiries</th>\n",
       "      <th>Credit_Mix</th>\n",
       "      <th>Outstanding_Debt</th>\n",
       "      <th>Credit_Utilization_Ratio</th>\n",
       "      <th>Credit_History_Age</th>\n",
       "      <th>Payment_of_Min_Amount</th>\n",
       "      <th>Total_EMI_per_month</th>\n",
       "      <th>Amount_invested_monthly</th>\n",
       "      <th>Payment_Behaviour</th>\n",
       "      <th>Monthly_Balance</th>\n",
       "      <th>Credit_Score</th>\n",
       "    </tr>\n",
       "  </thead>\n",
       "  <tbody>\n",
       "    <tr>\n",
       "      <th>0</th>\n",
       "      <td>Scientist</td>\n",
       "      <td>19114.12</td>\n",
       "      <td>1824.843333</td>\n",
       "      <td>3</td>\n",
       "      <td>3</td>\n",
       "      <td>7</td>\n",
       "      <td>11.270000</td>\n",
       "      <td>4.0</td>\n",
       "      <td>Good</td>\n",
       "      <td>809.98</td>\n",
       "      <td>26.822620</td>\n",
       "      <td>22</td>\n",
       "      <td>No</td>\n",
       "      <td>49.57494921489417</td>\n",
       "      <td>80.415295</td>\n",
       "      <td>High_spent_Small_value_payments</td>\n",
       "      <td>312.494089</td>\n",
       "      <td>Good</td>\n",
       "    </tr>\n",
       "    <tr>\n",
       "      <th>1</th>\n",
       "      <td>Scientist</td>\n",
       "      <td>19114.12</td>\n",
       "      <td>4190.115139</td>\n",
       "      <td>3</td>\n",
       "      <td>1</td>\n",
       "      <td>30</td>\n",
       "      <td>11.270000</td>\n",
       "      <td>4.0</td>\n",
       "      <td>Good</td>\n",
       "      <td>809.98</td>\n",
       "      <td>31.944960</td>\n",
       "      <td>18</td>\n",
       "      <td>No</td>\n",
       "      <td>49.57494921489417</td>\n",
       "      <td>118.280222</td>\n",
       "      <td>Low_spent_Large_value_payments</td>\n",
       "      <td>284.629162</td>\n",
       "      <td>Good</td>\n",
       "    </tr>\n",
       "    <tr>\n",
       "      <th>2</th>\n",
       "      <td>Scientist</td>\n",
       "      <td>19114.12</td>\n",
       "      <td>4190.115139</td>\n",
       "      <td>3</td>\n",
       "      <td>3</td>\n",
       "      <td>7</td>\n",
       "      <td>10.384299</td>\n",
       "      <td>4.0</td>\n",
       "      <td>Good</td>\n",
       "      <td>809.98</td>\n",
       "      <td>28.609352</td>\n",
       "      <td>22</td>\n",
       "      <td>No</td>\n",
       "      <td>49.57494921489417</td>\n",
       "      <td>81.699521</td>\n",
       "      <td>Low_spent_Medium_value_payments</td>\n",
       "      <td>331.209863</td>\n",
       "      <td>Good</td>\n",
       "    </tr>\n",
       "    <tr>\n",
       "      <th>3</th>\n",
       "      <td>Scientist</td>\n",
       "      <td>19114.12</td>\n",
       "      <td>4190.115139</td>\n",
       "      <td>3</td>\n",
       "      <td>5</td>\n",
       "      <td>4</td>\n",
       "      <td>6.270000</td>\n",
       "      <td>4.0</td>\n",
       "      <td>Good</td>\n",
       "      <td>809.98</td>\n",
       "      <td>31.377862</td>\n",
       "      <td>22</td>\n",
       "      <td>No</td>\n",
       "      <td>49.57494921489417</td>\n",
       "      <td>199.458074</td>\n",
       "      <td>Low_spent_Small_value_payments</td>\n",
       "      <td>223.451310</td>\n",
       "      <td>Good</td>\n",
       "    </tr>\n",
       "    <tr>\n",
       "      <th>4</th>\n",
       "      <td>Scientist</td>\n",
       "      <td>19114.12</td>\n",
       "      <td>1824.843333</td>\n",
       "      <td>3</td>\n",
       "      <td>6</td>\n",
       "      <td>30</td>\n",
       "      <td>11.270000</td>\n",
       "      <td>4.0</td>\n",
       "      <td>Good</td>\n",
       "      <td>809.98</td>\n",
       "      <td>24.797347</td>\n",
       "      <td>22</td>\n",
       "      <td>No</td>\n",
       "      <td>49.57494921489417</td>\n",
       "      <td>41.420153</td>\n",
       "      <td>High_spent_Medium_value_payments</td>\n",
       "      <td>341.489231</td>\n",
       "      <td>Good</td>\n",
       "    </tr>\n",
       "  </tbody>\n",
       "</table>\n",
       "</div>"
      ],
      "text/plain": [
       "  Occupation Annual_Income  Monthly_Inhand_Salary  Interest_Rate  \\\n",
       "0  Scientist      19114.12            1824.843333              3   \n",
       "1  Scientist      19114.12            4190.115139              3   \n",
       "2  Scientist      19114.12            4190.115139              3   \n",
       "3  Scientist      19114.12            4190.115139              3   \n",
       "4  Scientist      19114.12            1824.843333              3   \n",
       "\n",
       "  Delay_from_due_date  Num_of_Delayed_Payment  Changed_Credit_Limit  \\\n",
       "0                   3                       7             11.270000   \n",
       "1                   1                      30             11.270000   \n",
       "2                   3                       7             10.384299   \n",
       "3                   5                       4              6.270000   \n",
       "4                   6                      30             11.270000   \n",
       "\n",
       "   Num_Credit_Inquiries Credit_Mix  Outstanding_Debt  \\\n",
       "0                   4.0       Good            809.98   \n",
       "1                   4.0       Good            809.98   \n",
       "2                   4.0       Good            809.98   \n",
       "3                   4.0       Good            809.98   \n",
       "4                   4.0       Good            809.98   \n",
       "\n",
       "   Credit_Utilization_Ratio  Credit_History_Age Payment_of_Min_Amount  \\\n",
       "0                 26.822620                  22                    No   \n",
       "1                 31.944960                  18                    No   \n",
       "2                 28.609352                  22                    No   \n",
       "3                 31.377862                  22                    No   \n",
       "4                 24.797347                  22                    No   \n",
       "\n",
       "  Total_EMI_per_month  Amount_invested_monthly  \\\n",
       "0   49.57494921489417                80.415295   \n",
       "1   49.57494921489417               118.280222   \n",
       "2   49.57494921489417                81.699521   \n",
       "3   49.57494921489417               199.458074   \n",
       "4   49.57494921489417                41.420153   \n",
       "\n",
       "                  Payment_Behaviour  Monthly_Balance Credit_Score  \n",
       "0   High_spent_Small_value_payments       312.494089         Good  \n",
       "1    Low_spent_Large_value_payments       284.629162         Good  \n",
       "2   Low_spent_Medium_value_payments       331.209863         Good  \n",
       "3    Low_spent_Small_value_payments       223.451310         Good  \n",
       "4  High_spent_Medium_value_payments       341.489231         Good  "
      ]
     },
     "execution_count": 14,
     "metadata": {},
     "output_type": "execute_result"
    }
   ],
   "source": [
    "df.head()"
   ]
  },
  {
   "cell_type": "code",
   "execution_count": 15,
   "metadata": {},
   "outputs": [
    {
     "data": {
      "text/plain": [
       "Index(['Occupation', 'Annual_Income', 'Monthly_Inhand_Salary', 'Interest_Rate',\n",
       "       'Delay_from_due_date', 'Num_of_Delayed_Payment', 'Changed_Credit_Limit',\n",
       "       'Num_Credit_Inquiries', 'Credit_Mix', 'Outstanding_Debt',\n",
       "       'Credit_Utilization_Ratio', 'Credit_History_Age',\n",
       "       'Payment_of_Min_Amount', 'Total_EMI_per_month',\n",
       "       'Amount_invested_monthly', 'Payment_Behaviour', 'Monthly_Balance',\n",
       "       'Credit_Score'],\n",
       "      dtype='object')"
      ]
     },
     "execution_count": 15,
     "metadata": {},
     "output_type": "execute_result"
    }
   ],
   "source": [
    "df.columns"
   ]
  },
  {
   "cell_type": "code",
   "execution_count": 16,
   "metadata": {},
   "outputs": [],
   "source": [
    "dumm_df=pd.get_dummies(df[[\"Occupation\",\"Payment_Behaviour\"]])"
   ]
  },
  {
   "cell_type": "code",
   "execution_count": 51,
   "metadata": {},
   "outputs": [
    {
     "data": {
      "text/plain": [
       "Index(['Occupation_Accountant', 'Occupation_Architect', 'Occupation_Developer',\n",
       "       'Occupation_Doctor', 'Occupation_Engineer', 'Occupation_Entrepreneur',\n",
       "       'Occupation_Journalist', 'Occupation_Lawyer', 'Occupation_Manager',\n",
       "       'Occupation_Mechanic', 'Occupation_MediaManager', 'Occupation_Musician',\n",
       "       'Occupation_Scientist', 'Occupation_Teacher', 'Occupation_Writer',\n",
       "       'Payment_Behaviour_High_spent_Large_value_payments',\n",
       "       'Payment_Behaviour_High_spent_Medium_value_payments',\n",
       "       'Payment_Behaviour_High_spent_Small_value_payments',\n",
       "       'Payment_Behaviour_Low_spent_Large_value_payments',\n",
       "       'Payment_Behaviour_Low_spent_Medium_value_payments',\n",
       "       'Payment_Behaviour_Low_spent_Small_value_payments'],\n",
       "      dtype='object')"
      ]
     },
     "execution_count": 51,
     "metadata": {},
     "output_type": "execute_result"
    }
   ],
   "source": [
    "dumm_df.columns"
   ]
  },
  {
   "cell_type": "code",
   "execution_count": 17,
   "metadata": {},
   "outputs": [],
   "source": [
    "df['Credit_Score'].replace({\"Poor\":0, \"Standard\":1, \"Good\":2}, inplace=True)\n",
    "df['Credit_Mix'].replace({\"Bad\":0, \"Standard\":1, \"Good\":2}, inplace=True)\n",
    "df['Payment_of_Min_Amount'].replace({\"Yes\":1, \"0\":0}, inplace=True)"
   ]
  },
  {
   "cell_type": "code",
   "execution_count": 18,
   "metadata": {},
   "outputs": [],
   "source": [
    "df.drop([\"Occupation\",\"Payment_Behaviour\"],axis=1,inplace=True)"
   ]
  },
  {
   "cell_type": "code",
   "execution_count": 19,
   "metadata": {},
   "outputs": [],
   "source": [
    "newData=pd.concat([dumm_df,df],axis=1)"
   ]
  },
  {
   "cell_type": "code",
   "execution_count": 20,
   "metadata": {},
   "outputs": [],
   "source": [
    "newData[\"Delay_from_due_date\"]=newData[\"Delay_from_due_date\"].str.replace('_','')"
   ]
  },
  {
   "cell_type": "code",
   "execution_count": 21,
   "metadata": {},
   "outputs": [],
   "source": [
    "newData[\"Delay_from_due_date\"]=newData[\"Delay_from_due_date\"].astype(float)"
   ]
  },
  {
   "cell_type": "code",
   "execution_count": 22,
   "metadata": {},
   "outputs": [],
   "source": [
    "newData[\"Annual_Income\"]=newData[\"Annual_Income\"].str.replace('_','')"
   ]
  },
  {
   "cell_type": "code",
   "execution_count": 23,
   "metadata": {},
   "outputs": [],
   "source": [
    "newData[\"Annual_Income\"]=newData[\"Annual_Income\"].astype(float)"
   ]
  },
  {
   "cell_type": "code",
   "execution_count": 24,
   "metadata": {},
   "outputs": [],
   "source": [
    "Y=newData[\"Credit_Score\"]\n",
    "X=newData.drop(['Credit_Score'],axis=1)\n",
    "Y.fillna(np.random.choice(Y),inplace=True)"
   ]
  },
  {
   "cell_type": "code",
   "execution_count": 33,
   "metadata": {},
   "outputs": [
    {
     "data": {
      "text/plain": [
       "Index(['Occupation_Accountant', 'Occupation_Architect', 'Occupation_Developer',\n",
       "       'Occupation_Doctor', 'Occupation_Engineer', 'Occupation_Entrepreneur',\n",
       "       'Occupation_Journalist', 'Occupation_Lawyer', 'Occupation_Manager',\n",
       "       'Occupation_Mechanic', 'Occupation_MediaManager', 'Occupation_Musician',\n",
       "       'Occupation_Scientist', 'Occupation_Teacher', 'Occupation_Writer',\n",
       "       'Payment_Behaviour_High_spent_Large_value_payments',\n",
       "       'Payment_Behaviour_High_spent_Medium_value_payments',\n",
       "       'Payment_Behaviour_High_spent_Small_value_payments',\n",
       "       'Payment_Behaviour_Low_spent_Large_value_payments',\n",
       "       'Payment_Behaviour_Low_spent_Medium_value_payments',\n",
       "       'Payment_Behaviour_Low_spent_Small_value_payments', 'Annual_Income',\n",
       "       'Monthly_Inhand_Salary', 'Interest_Rate', 'Delay_from_due_date',\n",
       "       'Num_of_Delayed_Payment', 'Changed_Credit_Limit',\n",
       "       'Num_Credit_Inquiries', 'Credit_Mix', 'Outstanding_Debt',\n",
       "       'Credit_Utilization_Ratio', 'Credit_History_Age',\n",
       "       'Payment_of_Min_Amount', 'Total_EMI_per_month',\n",
       "       'Amount_invested_monthly', 'Monthly_Balance'],\n",
       "      dtype='object')"
      ]
     },
     "execution_count": 33,
     "metadata": {},
     "output_type": "execute_result"
    }
   ],
   "source": [
    "X.columns"
   ]
  },
  {
   "cell_type": "code",
   "execution_count": 26,
   "metadata": {},
   "outputs": [],
   "source": [
    "newData[\"Total_EMI_per_month\"]=newData[\"Total_EMI_per_month\"].astype(float)"
   ]
  },
  {
   "cell_type": "code",
   "execution_count": 27,
   "metadata": {},
   "outputs": [],
   "source": [
    "x_train,x_test,y_train,y_test=train_test_split(X,Y, test_size=0.33,random_state=1)"
   ]
  },
  {
   "cell_type": "code",
   "execution_count": 35,
   "metadata": {},
   "outputs": [
    {
     "data": {
      "text/html": [
       "<style>#sk-container-id-1 {color: black;background-color: white;}#sk-container-id-1 pre{padding: 0;}#sk-container-id-1 div.sk-toggleable {background-color: white;}#sk-container-id-1 label.sk-toggleable__label {cursor: pointer;display: block;width: 100%;margin-bottom: 0;padding: 0.3em;box-sizing: border-box;text-align: center;}#sk-container-id-1 label.sk-toggleable__label-arrow:before {content: \"▸\";float: left;margin-right: 0.25em;color: #696969;}#sk-container-id-1 label.sk-toggleable__label-arrow:hover:before {color: black;}#sk-container-id-1 div.sk-estimator:hover label.sk-toggleable__label-arrow:before {color: black;}#sk-container-id-1 div.sk-toggleable__content {max-height: 0;max-width: 0;overflow: hidden;text-align: left;background-color: #f0f8ff;}#sk-container-id-1 div.sk-toggleable__content pre {margin: 0.2em;color: black;border-radius: 0.25em;background-color: #f0f8ff;}#sk-container-id-1 input.sk-toggleable__control:checked~div.sk-toggleable__content {max-height: 200px;max-width: 100%;overflow: auto;}#sk-container-id-1 input.sk-toggleable__control:checked~label.sk-toggleable__label-arrow:before {content: \"▾\";}#sk-container-id-1 div.sk-estimator input.sk-toggleable__control:checked~label.sk-toggleable__label {background-color: #d4ebff;}#sk-container-id-1 div.sk-label input.sk-toggleable__control:checked~label.sk-toggleable__label {background-color: #d4ebff;}#sk-container-id-1 input.sk-hidden--visually {border: 0;clip: rect(1px 1px 1px 1px);clip: rect(1px, 1px, 1px, 1px);height: 1px;margin: -1px;overflow: hidden;padding: 0;position: absolute;width: 1px;}#sk-container-id-1 div.sk-estimator {font-family: monospace;background-color: #f0f8ff;border: 1px dotted black;border-radius: 0.25em;box-sizing: border-box;margin-bottom: 0.5em;}#sk-container-id-1 div.sk-estimator:hover {background-color: #d4ebff;}#sk-container-id-1 div.sk-parallel-item::after {content: \"\";width: 100%;border-bottom: 1px solid gray;flex-grow: 1;}#sk-container-id-1 div.sk-label:hover label.sk-toggleable__label {background-color: #d4ebff;}#sk-container-id-1 div.sk-serial::before {content: \"\";position: absolute;border-left: 1px solid gray;box-sizing: border-box;top: 0;bottom: 0;left: 50%;z-index: 0;}#sk-container-id-1 div.sk-serial {display: flex;flex-direction: column;align-items: center;background-color: white;padding-right: 0.2em;padding-left: 0.2em;position: relative;}#sk-container-id-1 div.sk-item {position: relative;z-index: 1;}#sk-container-id-1 div.sk-parallel {display: flex;align-items: stretch;justify-content: center;background-color: white;position: relative;}#sk-container-id-1 div.sk-item::before, #sk-container-id-1 div.sk-parallel-item::before {content: \"\";position: absolute;border-left: 1px solid gray;box-sizing: border-box;top: 0;bottom: 0;left: 50%;z-index: -1;}#sk-container-id-1 div.sk-parallel-item {display: flex;flex-direction: column;z-index: 1;position: relative;background-color: white;}#sk-container-id-1 div.sk-parallel-item:first-child::after {align-self: flex-end;width: 50%;}#sk-container-id-1 div.sk-parallel-item:last-child::after {align-self: flex-start;width: 50%;}#sk-container-id-1 div.sk-parallel-item:only-child::after {width: 0;}#sk-container-id-1 div.sk-dashed-wrapped {border: 1px dashed gray;margin: 0 0.4em 0.5em 0.4em;box-sizing: border-box;padding-bottom: 0.4em;background-color: white;}#sk-container-id-1 div.sk-label label {font-family: monospace;font-weight: bold;display: inline-block;line-height: 1.2em;}#sk-container-id-1 div.sk-label-container {text-align: center;}#sk-container-id-1 div.sk-container {/* jupyter's `normalize.less` sets `[hidden] { display: none; }` but bootstrap.min.css set `[hidden] { display: none !important; }` so we also need the `!important` here to be able to override the default hidden behavior on the sphinx rendered scikit-learn.org. See: https://github.com/scikit-learn/scikit-learn/issues/21755 */display: inline-block !important;position: relative;}#sk-container-id-1 div.sk-text-repr-fallback {display: none;}</style><div id=\"sk-container-id-1\" class=\"sk-top-container\"><div class=\"sk-text-repr-fallback\"><pre>RandomForestClassifier(random_state=0)</pre><b>In a Jupyter environment, please rerun this cell to show the HTML representation or trust the notebook. <br />On GitHub, the HTML representation is unable to render, please try loading this page with nbviewer.org.</b></div><div class=\"sk-container\" hidden><div class=\"sk-item\"><div class=\"sk-estimator sk-toggleable\"><input class=\"sk-toggleable__control sk-hidden--visually\" id=\"sk-estimator-id-1\" type=\"checkbox\" checked><label for=\"sk-estimator-id-1\" class=\"sk-toggleable__label sk-toggleable__label-arrow\">RandomForestClassifier</label><div class=\"sk-toggleable__content\"><pre>RandomForestClassifier(random_state=0)</pre></div></div></div></div></div>"
      ],
      "text/plain": [
       "RandomForestClassifier(random_state=0)"
      ]
     },
     "execution_count": 35,
     "metadata": {},
     "output_type": "execute_result"
    }
   ],
   "source": [
    "model=RandomForestClassifier(n_estimators= 100,random_state=0)\n",
    "model.fit(x_train,y_train)\n"
   ]
  },
  {
   "cell_type": "code",
   "execution_count": 36,
   "metadata": {},
   "outputs": [],
   "source": [
    "tahmin=model.predict(x_test)"
   ]
  },
  {
   "cell_type": "code",
   "execution_count": 37,
   "metadata": {},
   "outputs": [
    {
     "data": {
      "text/plain": [
       "0.9999800995024876"
      ]
     },
     "execution_count": 37,
     "metadata": {},
     "output_type": "execute_result"
    }
   ],
   "source": [
    "model.score(x_train,y_train)"
   ]
  },
  {
   "cell_type": "code",
   "execution_count": 38,
   "metadata": {},
   "outputs": [
    {
     "data": {
      "text/plain": [
       "0.6662222222222223"
      ]
     },
     "execution_count": 38,
     "metadata": {},
     "output_type": "execute_result"
    }
   ],
   "source": [
    "model.score(x_test,y_test)"
   ]
  },
  {
   "cell_type": "code",
   "execution_count": 39,
   "metadata": {},
   "outputs": [
    {
     "data": {
      "text/plain": [
       "array([[20412,  4416,  1183],\n",
       "       [ 6753,  9864,   979],\n",
       "       [ 2120,  1071,  2702]], dtype=int64)"
      ]
     },
     "execution_count": 39,
     "metadata": {},
     "output_type": "execute_result"
    }
   ],
   "source": [
    "confusion_matrix(y_test,tahmin)\n"
   ]
  },
  {
   "cell_type": "code",
   "execution_count": 94,
   "metadata": {},
   "outputs": [],
   "source": [
    "def predict_credit_score(Accountant,Architect,Developer,\n",
    "       Doctor,Engineer,Entrepreneur,\n",
    "       Journalist,Lawyer,Manager,\n",
    "       Mechanic,MediaManager,Musician,\n",
    "       Scientist,Teacher,Writer,\n",
    "       Hs_Large_vp,\n",
    "       Hs_Medium_vp,\n",
    "       Hs_Small_vp,\n",
    "       Ls_Large_vp,\n",
    "       Ls_Medium_vp,\n",
    "       Ls_Small_vp, Annual_Income,\n",
    "       M_Inhnd_Slry,Interest_Rate,Delay_from_due_date,\n",
    "       Num_of_Delayed_Payment,Changed_Credit_Limit,\n",
    "       Num_Credit_Inquiries,Credit_Mix,Outstanding_Debt,\n",
    "       Credit_Utilization_Ratio,Credit_History_Age,\n",
    "       Payment_of_Min_Amount,Total_EMI_per_month,\n",
    "       Amount_invested_monthly,Monthly_Balance):\n",
    "    data=[[Accountant,Architect,Developer,\n",
    "       Doctor,Engineer,Entrepreneur,\n",
    "       Journalist,Lawyer,Manager,\n",
    "       Mechanic,MediaManager,Musician,\n",
    "       Scientist,Teacher,Writer,\n",
    "       Hs_Large_vp,\n",
    "       Hs_Medium_vp,\n",
    "       Hs_Small_vp,\n",
    "       Ls_Large_vp,\n",
    "       Ls_Medium_vp,\n",
    "       Ls_Small_vp, Annual_Income,\n",
    "       M_Inhnd_Slry,Interest_Rate,Delay_from_due_date,\n",
    "       Num_of_Delayed_Payment,Changed_Credit_Limit,\n",
    "       Num_Credit_Inquiries,Credit_Mix,Outstanding_Debt,\n",
    "       Credit_Utilization_Ratio,Credit_History_Age,\n",
    "       Payment_of_Min_Amount,Total_EMI_per_month,\n",
    "       Amount_invested_monthly,Monthly_Balance]]\n",
    "    prediction=model.predict(data)[0]\n",
    "    return  prediction\n"
   ]
  },
  {
   "cell_type": "code",
   "execution_count": 87,
   "metadata": {},
   "outputs": [],
   "source": [
    "import gradio as gr"
   ]
  },
  {
   "cell_type": "code",
   "execution_count": null,
   "metadata": {},
   "outputs": [],
   "source": [
    "inputs=[\n",
    "    gr.inputs.Radio([1,0],default=0,label=\"Accountant\"),\n",
    "    gr.inputs.Radio([1,0],default=0,label=\"Architect\"),\n",
    "    gr.inputs.Radio([1,0],default=0,label=\"Developer\"),\n",
    "    gr.inputs.Radio([1,0],default=0,label=\"Doctor\"),\n",
    "    gr.inputs.Radio([1,0],default=0,label=\"Engineer\"),\n",
    "    gr.inputs.Radio([1,0],default=0,label=\"Entrepreneur\"),\n",
    "    gr.inputs.Radio([1,0],default=0,label=\"Journalist\"),\n",
    "    gr.inputs.Radio([1,0],default=0,label=\"Lawyer\"),\n",
    "    gr.inputs.Radio([1,0],default=0,label=\"Manager\"),\n",
    "    gr.inputs.Radio([1,0],default=0,label=\"Mechanic\"),\n",
    "    gr.inputs.Radio([1,0],default=0,label=\"MediaManager\"),\n",
    "    gr.inputs.Radio([1,0],default=0,label=\"Musician\"),\n",
    "    gr.inputs.Radio([1,0],default=0,label=\"Scientist\"),\n",
    "    gr.inputs.Radio([1,0],default=0,label=\"Teacher\"),\n",
    "    gr.inputs.Radio([1,0],default=0,label=\"Writer\"),\n",
    "    gr.inputs.Radio([1,0],default=0,label=\"small value in high spend\"),\n",
    "    gr.inputs.Radio([1,0],default=0,label=\"medium value in high spend\"),\n",
    "    gr.inputs.Radio([1,0],default=0,label=\"large value in high spend\"),\n",
    "    gr.inputs.Radio([1,0],default=0,label=\"small value in low spend\"),\n",
    "    gr.inputs.Radio([1,0],default=0,label=\"medium value in low spend\"),\n",
    "    gr.inputs.Radio([1,0],default=0,label=\"large value in low spend\"),\n",
    "    gr.inputs.Slider(0, 1000000, default=50000, label=\"Annual Income\"),\n",
    "    gr.inputs.Slider(0, 10000, default=5000, label=\"Monthly in-hand salary\"),\n",
    "    gr.inputs.Slider(0, 100, default=0, label=\"Interest Rate as %\"),\n",
    "    gr.inputs.Slider(0, 100, default=0, label=\"Delayed days to paid\"),\n",
    "    gr.inputs.Slider(0, 100, default=0, label=\"number of delayed payment\"),\n",
    "    gr.inputs.Slider(-100, 100, default=0, label=\"Changed credit limit\"),\n",
    "    gr.inputs.Slider(0, 5000, default=0, label=\"Number of credit inquiries\"),\n",
    "    gr.inputs.Radio([0,1,2],default=0,label=\"previous paid credit status\"),\n",
    "    gr.inputs.Slider(0, 10000, default=0, label=\"Outstanding Debt\"),\n",
    "    gr.inputs.Slider(0, 100, default=0, label=\"Credit Utilization Ratio as %\"),\n",
    "    gr.inputs.Slider(0, 100, default=0, label=\"Credit History Age\"),\n",
    "    gr.inputs.Radio([0,1],default=0,label=\"Payment Of Min Amount\"),\n",
    "    gr.inputs.Slider(0, 20000, default=0, label=\"Total EMI per month\"),\n",
    "    gr.inputs.Slider(0, 20000, default=0, label=\"Amount Invested Monthly\"),\n",
    "    gr.inputs.Slider(0, 200000, default=0, label=\"Monthly Balance\")]\n",
    "\n",
    "outputs = gr.Number()\n",
    "\n",
    "interface = gr.Interface(fn=predict_credit_score, inputs=inputs, outputs=outputs, title=\"Credit Score Classification\", description=\"Enter your information to get classification  of your credit score.\")\n",
    "interface.launch()\n",
    "\n",
    "\n",
    "\n",
    "\n",
    "\n",
    "\n",
    "\n",
    "\n",
    "\n",
    "\n",
    "\n",
    "\n",
    "\n",
    "\n",
    "\n"
   ]
  }
 ],
 "metadata": {
  "kernelspec": {
   "display_name": "Python 3",
   "language": "python",
   "name": "python3"
  },
  "language_info": {
   "codemirror_mode": {
    "name": "ipython",
    "version": 3
   },
   "file_extension": ".py",
   "mimetype": "text/x-python",
   "name": "python",
   "nbconvert_exporter": "python",
   "pygments_lexer": "ipython3",
   "version": "3.10.2"
  },
  "orig_nbformat": 4,
  "vscode": {
   "interpreter": {
    "hash": "4446d39634ee2d58843a79362b6c0ab23fd2f7e123f716097bf2f0aad7b5d51c"
   }
  }
 },
 "nbformat": 4,
 "nbformat_minor": 2
}
